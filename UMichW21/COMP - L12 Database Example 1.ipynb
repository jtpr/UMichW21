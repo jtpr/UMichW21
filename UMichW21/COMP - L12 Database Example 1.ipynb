{
 "cells": [
  {
   "cell_type": "markdown",
   "id": "41d77667",
   "metadata": {},
   "source": [
    "# COMP - L12: Databases Example 1"
   ]
  },
  {
   "cell_type": "markdown",
   "id": "9f293492",
   "metadata": {},
   "source": [
    "Step 1 is to import SQLite and connect to the database"
   ]
  },
  {
   "cell_type": "code",
   "execution_count": 3,
   "id": "b5c83d7c",
   "metadata": {},
   "outputs": [],
   "source": [
    "import sqlite3\n",
    "\n",
    "conn = sqlite3.connect('Weather.db')"
   ]
  },
  {
   "cell_type": "markdown",
   "id": "417135fc",
   "metadata": {},
   "source": [
    "We then delete the table WATHER and add to it"
   ]
  },
  {
   "cell_type": "code",
   "execution_count": 4,
   "id": "c7c253e3",
   "metadata": {},
   "outputs": [
    {
     "data": {
      "text/plain": [
       "<sqlite3.Cursor at 0x1c287870dc0>"
      ]
     },
     "execution_count": 4,
     "metadata": {},
     "output_type": "execute_result"
    }
   ],
   "source": [
    "cursor = conn.cursor()\n",
    "cursor.execute('DROP TABLE IF EXISTS WEATHER')"
   ]
  },
  {
   "cell_type": "markdown",
   "id": "f0e1fb77",
   "metadata": {},
   "source": [
    "WE then need to create a table to data. The table is named WEATHER and the data to be stored includes the ID, CITY, STATE, TEMPERATURE, and CONDITION. The ID is an integer (int), the CITY is a character string (CHAR(50), limited to 50 characters), the STATE is a character string (CHAR(2), limited to 2 characters), the TEMPERATURE is a floating point number (REAL), and the CONDITION is a character string (CHAR(50))."
   ]
  },
  {
   "cell_type": "code",
   "execution_count": 5,
   "id": "3e5f0e65",
   "metadata": {},
   "outputs": [
    {
     "data": {
      "text/plain": [
       "<sqlite3.Cursor at 0x1c287870dc0>"
      ]
     },
     "execution_count": 5,
     "metadata": {},
     "output_type": "execute_result"
    }
   ],
   "source": [
    "cursor.execute('''\n",
    "    CREATE TABLE WEATHER (          \n",
    "    ID int primary key,\n",
    "    CITY char(50),\n",
    "    STATE char(2),\n",
    "    TEMPERATURE real,\n",
    "    CONDITION char(50))''')"
   ]
  },
  {
   "cell_type": "markdown",
   "id": "6278b8ab",
   "metadata": {},
   "source": [
    "We can then add rows of data into the table!"
   ]
  },
  {
   "cell_type": "code",
   "execution_count": 6,
   "id": "8a71b8e2",
   "metadata": {},
   "outputs": [],
   "source": [
    "cursor.execute(\"INSERT INTO WEATHER (ID,CITY,STATE,TEMPERATURE,CONDITION) \\\n",
    "      VALUES (1, 'Ann Arbor', 'MI',32.1,'Light snow')\")\n",
    "cursor.execute(\"INSERT INTO WEATHER (ID,CITY,STATE,TEMPERATURE,CONDITION) \\\n",
    "      VALUES (2, 'Phoenix', 'AZ',73.4,'Sunny')\")\n",
    "cursor.execute(\"INSERT INTO WEATHER (ID,CITY,STATE,TEMPERATURE,CONDITION) \\\n",
    "      VALUES (3, 'New York', 'NY',52.9,'Sunny')\")\n",
    "cursor.execute(\"INSERT INTO WEATHER (ID,CITY,STATE,TEMPERATURE,CONDITION) \\\n",
    "      VALUES (4, 'New Orleans', 'LA',68.2,'Sunny')\")\n",
    "cursor.execute(\"INSERT INTO WEATHER (ID,CITY,STATE,TEMPERATURE,CONDITION) \\\n",
    "      VALUES (5, 'Seattle', 'WA',45.7,'Cloudy')\")\n",
    "conn.commit()"
   ]
  },
  {
   "cell_type": "markdown",
   "id": "3f65cfd2",
   "metadata": {},
   "source": [
    "What if you leave one of the values blank?\n",
    "    - This stores a NULL value within your table, but will likely mess up your row."
   ]
  },
  {
   "cell_type": "markdown",
   "id": "5ab56485",
   "metadata": {},
   "source": [
    "## Pulling data from the table\n",
    "\n",
    "We use a for loop to fetch data from the table and display it.\n",
    "\n",
    "You have to manually think about what data is stored where!"
   ]
  },
  {
   "cell_type": "code",
   "execution_count": 8,
   "id": "ab3e274f",
   "metadata": {},
   "outputs": [
    {
     "name": "stdout",
     "output_type": "stream",
     "text": [
      "ID =  1\n",
      "CITY =  Ann Arbor  , MI\n",
      "TEMPERATURE =  32.1\n",
      "CONDITION =  Light snow \n",
      "\n",
      "ID =  2\n",
      "CITY =  Phoenix  , AZ\n",
      "TEMPERATURE =  73.4\n",
      "CONDITION =  Sunny \n",
      "\n",
      "ID =  3\n",
      "CITY =  New York  , NY\n",
      "TEMPERATURE =  52.9\n",
      "CONDITION =  Sunny \n",
      "\n",
      "ID =  4\n",
      "CITY =  New Orleans  , LA\n",
      "TEMPERATURE =  68.2\n",
      "CONDITION =  Sunny \n",
      "\n",
      "ID =  5\n",
      "CITY =  Seattle  , WA\n",
      "TEMPERATURE =  45.7\n",
      "CONDITION =  Cloudy \n",
      "\n"
     ]
    }
   ],
   "source": [
    "cursor = conn.execute(\"SELECT ID,CITY,STATE,TEMPERATURE,CONDITION from WEATHER\")\n",
    "for row in cursor:\n",
    "   print(\"ID = \", row[0])\n",
    "   print(\"CITY = \", row[1], \" ,\", row[2])\n",
    "   print(\"TEMPERATURE = \", row[3])\n",
    "   print(\"CONDITION = \", row[4], \"\\n\")"
   ]
  },
  {
   "cell_type": "markdown",
   "id": "fb16808b",
   "metadata": {},
   "source": [
    "## Updating records\n",
    "\n",
    "We can update a record with the `update` command. Let's update the condidion in New Orleans from sunny to cloudy."
   ]
  },
  {
   "cell_type": "code",
   "execution_count": 11,
   "id": "2b006c6f",
   "metadata": {},
   "outputs": [
    {
     "name": "stdout",
     "output_type": "stream",
     "text": [
      "ID =  1\n",
      "CITY =  Ann Arbor  , MI\n",
      "TEMPERATURE =  32.1\n",
      "CONDITION =  Light snow \n",
      "\n",
      "ID =  2\n",
      "CITY =  Phoenix  , AZ\n",
      "TEMPERATURE =  73.4\n",
      "CONDITION =  Sunny \n",
      "\n",
      "ID =  3\n",
      "CITY =  New York  , NY\n",
      "TEMPERATURE =  52.9\n",
      "CONDITION =  Sunny \n",
      "\n",
      "ID =  4\n",
      "CITY =  New Orleans  , LA\n",
      "TEMPERATURE =  68.2\n",
      "CONDITION =  Rain \n",
      "\n",
      "ID =  5\n",
      "CITY =  Seattle  , WA\n",
      "TEMPERATURE =  45.7\n",
      "CONDITION =  Cloudy \n",
      "\n"
     ]
    }
   ],
   "source": [
    "conn.execute(\"UPDATE WEATHER set CONDITION = 'Rain' where ID = 4\")\n",
    "conn.commit()\n",
    "\n",
    "cursor = conn.execute(\"SELECT ID,CITY,STATE,TEMPERATURE,CONDITION from WEATHER\")\n",
    "for row in cursor:\n",
    "    print(\"ID = \", row[0])\n",
    "    print(\"CITY = \", row[1], \" ,\", row[2])\n",
    "    print(\"TEMPERATURE = \", row[3])\n",
    "    print(\"CONDITION = \", row[4], \"\\n\")"
   ]
  },
  {
   "cell_type": "markdown",
   "id": "98930f1a",
   "metadata": {},
   "source": [
    "## Deleting records\n",
    "\n",
    "We can delete ID = 2 from the table to clean up our records."
   ]
  },
  {
   "cell_type": "code",
   "execution_count": 12,
   "id": "c626d95f",
   "metadata": {},
   "outputs": [
    {
     "name": "stdout",
     "output_type": "stream",
     "text": [
      "ID =  1\n",
      "CITY =  Ann Arbor  , MI\n",
      "TEMPERATURE =  32.1\n",
      "CONDITION =  Light snow \n",
      "\n",
      "ID =  3\n",
      "CITY =  New York  , NY\n",
      "TEMPERATURE =  52.9\n",
      "CONDITION =  Sunny \n",
      "\n",
      "ID =  4\n",
      "CITY =  New Orleans  , LA\n",
      "TEMPERATURE =  68.2\n",
      "CONDITION =  Rain \n",
      "\n",
      "ID =  5\n",
      "CITY =  Seattle  , WA\n",
      "TEMPERATURE =  45.7\n",
      "CONDITION =  Cloudy \n",
      "\n"
     ]
    }
   ],
   "source": [
    "conn.execute(\"DELETE from WEATHER where ID = 2;\")\n",
    "conn.commit()\n",
    "\n",
    "cursor = conn.execute(\"SELECT ID,CITY,STATE,TEMPERATURE,CONDITION from WEATHER\")\n",
    "for row in cursor:\n",
    "   print(\"ID = \", row[0])\n",
    "   print(\"CITY = \", row[1], \" ,\", row[2])\n",
    "   print(\"TEMPERATURE = \", row[3])\n",
    "   print(\"CONDITION = \", row[4], \"\\n\")"
   ]
  },
  {
   "cell_type": "markdown",
   "id": "ac40988e",
   "metadata": {},
   "source": [
    "When finished, we need to close the database."
   ]
  },
  {
   "cell_type": "code",
   "execution_count": 13,
   "id": "8da1e149",
   "metadata": {},
   "outputs": [],
   "source": [
    "conn.close()"
   ]
  },
  {
   "cell_type": "markdown",
   "id": "3b281fb5",
   "metadata": {},
   "source": [
    "## Example 2. Creating bar charts for temperature in the city!\n",
    "\n",
    "The following code opens the database that was previously stored, and adds a row of data for the city Pittsburgh."
   ]
  },
  {
   "cell_type": "code",
   "execution_count": 14,
   "id": "a71e3aed",
   "metadata": {},
   "outputs": [
    {
     "name": "stdout",
     "output_type": "stream",
     "text": [
      "ID =  1\n",
      "CITY =  Ann Arbor  , MI\n",
      "TEMPERATURE =  32.1\n",
      "CONDITION =  Light snow \n",
      "\n",
      "ID =  3\n",
      "CITY =  New York  , NY\n",
      "TEMPERATURE =  52.9\n",
      "CONDITION =  Sunny \n",
      "\n",
      "ID =  4\n",
      "CITY =  New Orleans  , LA\n",
      "TEMPERATURE =  68.2\n",
      "CONDITION =  Rain \n",
      "\n",
      "ID =  5\n",
      "CITY =  Seattle  , WA\n",
      "TEMPERATURE =  45.7\n",
      "CONDITION =  Cloudy \n",
      "\n",
      "ID =  6\n",
      "CITY =  Pittsburgh  , PA\n",
      "TEMPERATURE =  50.9\n",
      "CONDITION =  Cloudy \n",
      "\n"
     ]
    }
   ],
   "source": [
    "conn = sqlite3.connect('Weather.db') # Reconnect because we closed\n",
    "cursor = conn.cursor() \n",
    "cursor.execute(\"INSERT INTO WEATHER (ID,CITY,STATE,TEMPERATURE,CONDITION) \\\n",
    "      VALUES (6, 'Pittsburgh', 'PA',50.9,'Cloudy')\")\n",
    "conn.commit() # Save table\n",
    "\n",
    "cursor = conn.execute(\"SELECT ID,CITY,STATE,TEMPERATURE,CONDITION from WEATHER\")\n",
    "for row in cursor:\n",
    "    print(\"ID = \", row[0])\n",
    "    print(\"CITY = \", row[1], \" ,\", row[2])\n",
    "    print(\"TEMPERATURE = \", row[3])\n",
    "    print(\"CONDITION = \", row[4], \"\\n\")"
   ]
  },
  {
   "cell_type": "markdown",
   "id": "35e42192",
   "metadata": {},
   "source": [
    "Now lets see how to read data from the database. If opening it for the first time, you want to read the column headings ahead of time. To get just the headings, use this code:"
   ]
  },
  {
   "cell_type": "code",
   "execution_count": 15,
   "id": "ad38f92d",
   "metadata": {},
   "outputs": [
    {
     "name": "stdout",
     "output_type": "stream",
     "text": [
      "(('ID', None, None, None, None, None, None), ('CITY', None, None, None, None, None, None), ('STATE', None, None, None, None, None, None), ('TEMPERATURE', None, None, None, None, None, None), ('CONDITION', None, None, None, None, None, None))\n"
     ]
    }
   ],
   "source": [
    "# select all the data within the table\n",
    "headings=cursor.execute('''SELECT * FROM WEATHER''') \n",
    "print(headings.description) # the .description stores the names"
   ]
  },
  {
   "cell_type": "markdown",
   "id": "565a483c",
   "metadata": {},
   "source": [
    "To retrieve all data, we can use the `fetchall()` command."
   ]
  },
  {
   "cell_type": "code",
   "execution_count": 16,
   "id": "fa3b72a9",
   "metadata": {},
   "outputs": [
    {
     "name": "stdout",
     "output_type": "stream",
     "text": [
      "[(1, 'Ann Arbor', 'MI', 32.1, 'Light snow'), (3, 'New York', 'NY', 52.9, 'Sunny'), (4, 'New Orleans', 'LA', 68.2, 'Rain'), (5, 'Seattle', 'WA', 45.7, 'Cloudy'), (6, 'Pittsburgh', 'PA', 50.9, 'Cloudy')]\n"
     ]
    }
   ],
   "source": [
    "cursor.execute('SELECT * FROM WEATHER')\n",
    "data = cursor.fetchall() # we don't need a for loop!\n",
    "print(data)"
   ]
  },
  {
   "cell_type": "markdown",
   "id": "920087f0",
   "metadata": {},
   "source": [
    "This uses the general format of [Array, (set), (set), (set)]. These are whats known as a `touple`, you can find more [HERE](https://www.w3schools.com/python/python_tuples.asp)\n",
    "\n",
    "To see the data for one row (city) we can use the following code:"
   ]
  },
  {
   "cell_type": "code",
   "execution_count": 17,
   "id": "eb4079b6",
   "metadata": {},
   "outputs": [
    {
     "name": "stdout",
     "output_type": "stream",
     "text": [
      "[(6, 'Pittsburgh', 'PA', 50.9, 'Cloudy')]\n"
     ]
    }
   ],
   "source": [
    "cursor.execute('SELECT * FROM WEATHER WHERE CITY=\"Pittsburgh\"')\n",
    "Pitt = cursor.fetchall()\n",
    "print(Pitt)"
   ]
  },
  {
   "cell_type": "markdown",
   "id": "ecea0453",
   "metadata": {},
   "source": [
    "If we want to know all the cities that are cloudy, we can do the following:"
   ]
  },
  {
   "cell_type": "code",
   "execution_count": 19,
   "id": "096258ee",
   "metadata": {},
   "outputs": [
    {
     "name": "stdout",
     "output_type": "stream",
     "text": [
      "[(5, 'Seattle', 'WA', 45.7, 'Cloudy'), (6, 'Pittsburgh', 'PA', 50.9, 'Cloudy')]\n"
     ]
    }
   ],
   "source": [
    "cursor.execute('SELECT * FROM WEATHER WHERE CONDITION=\"Cloudy\"')\n",
    "Cloudy = cursor.fetchall()\n",
    "print(Cloudy)\n",
    "\n",
    "conn.close()"
   ]
  },
  {
   "cell_type": "markdown",
   "id": "defdd330",
   "metadata": {},
   "source": [
    "### Now to actually make the plot\n",
    "\n",
    "First, we need a list containing the cities and the temperature data. We extract this data that we've created using the reading database. "
   ]
  },
  {
   "cell_type": "code",
   "execution_count": 20,
   "id": "9bb5e7ef",
   "metadata": {},
   "outputs": [
    {
     "name": "stdout",
     "output_type": "stream",
     "text": [
      "['Ann Arbor', 'New York', 'New Orleans', 'Seattle', 'Pittsburgh'] [32.1, 52.9, 68.2, 45.7, 50.9]\n"
     ]
    }
   ],
   "source": [
    "rows=len(data)\n",
    "for i in range(0,rows):\n",
    "    #Extract values from the tuple in row i of data\n",
    "    x1,x2,x3,x4,x5 = data[i]\n",
    "\n",
    "    if i==0:\n",
    "        #Initialize list\n",
    "        city=[x2]\n",
    "        temperature=[x4]\n",
    "    else:\n",
    "        #Append to list\n",
    "        city.append(x2)\n",
    "        temperature.append(x4)\n",
    "print(city, temperature)"
   ]
  },
  {
   "cell_type": "markdown",
   "id": "e043404b",
   "metadata": {},
   "source": [
    "We can then import `matplotlib` and plot our data!"
   ]
  },
  {
   "cell_type": "code",
   "execution_count": 21,
   "id": "d9634031",
   "metadata": {},
   "outputs": [
    {
     "data": {
      "image/png": "[encoded data removed]",
      "text/plain": [
       "<Figure size 432x288 with 1 Axes>"
      ]
     },
     "metadata": {
      "needs_background": "light"
     },
     "output_type": "display_data"
    }
   ],
   "source": [
    "import matplotlib.pyplot as plt\n",
    "\n",
    "plt.bar(city,temperature)\n",
    "plt.title('Forecast for Today')\n",
    "plt.xlabel('City')\n",
    "plt.ylabel('Temperature')\n",
    "plt.show()"
   ]
  }
 ],
 "metadata": {
  "kernelspec": {
   "display_name": "Python 3 (ipykernel)",
   "language": "python",
   "name": "python3"
  },
  "language_info": {
   "codemirror_mode": {
    "name": "ipython",
    "version": 3
   },
   "file_extension": ".py",
   "mimetype": "text/x-python",
   "name": "python",
   "nbconvert_exporter": "python",
   "pygments_lexer": "ipython3",
   "version": "3.9.7"
  }
 },
 "nbformat": 4,
 "nbformat_minor": 5
}
