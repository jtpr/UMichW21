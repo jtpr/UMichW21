{
 "cells": [
  {
   "cell_type": "markdown",
   "id": "8247a153",
   "metadata": {},
   "source": [
    "# COMP - L12 Databases Example 2\n",
    "\n",
    "Import this table into SQLite using python:\n",
    "\n",
    "| ID  | Dog Breed | Weight | Speed |\n",
    "| --- | --------- | ------ | ----- |\n",
    "| 1   | Chihuahua | 5      | 8     |\n",
    "| 2   | Corgi     | 15     | 6     |\n",
    "| 3   | Greyhound | 65     | 12    | "
   ]
  },
  {
   "cell_type": "code",
   "execution_count": 1,
   "id": "8dc1e3c8",
   "metadata": {},
   "outputs": [],
   "source": [
    "import sqlite3 as sql # Bring in SQL3\n",
    "\n",
    "conn = sql.connect('Dogs.db') # Create dogs datable"
   ]
  },
  {
   "cell_type": "code",
   "execution_count": 2,
   "id": "8f30b437",
   "metadata": {},
   "outputs": [
    {
     "data": {
      "text/plain": [
       "<sqlite3.Cursor at 0x1e91d762490>"
      ]
     },
     "execution_count": 2,
     "metadata": {},
     "output_type": "execute_result"
    }
   ],
   "source": [
    "cursor = conn.cursor()\n",
    "cursor.execute('DROP TABLE IF EXISTS DOGS')"
   ]
  },
  {
   "cell_type": "code",
   "execution_count": 3,
   "id": "83bdc0eb",
   "metadata": {},
   "outputs": [
    {
     "data": {
      "text/plain": [
       "<sqlite3.Cursor at 0x1e91d762490>"
      ]
     },
     "execution_count": 3,
     "metadata": {},
     "output_type": "execute_result"
    }
   ],
   "source": [
    "cursor.execute('''\n",
    "    CREATE TABLE DOGS (          \n",
    "    ID int primary key,\n",
    "    DOG_BREED char(50),\n",
    "    WEIGHT real,\n",
    "    SPEED real)''')"
   ]
  },
  {
   "cell_type": "markdown",
   "id": "80882f10",
   "metadata": {},
   "source": [
    "Add data into the table according to the given table"
   ]
  },
  {
   "cell_type": "code",
   "execution_count": 4,
   "id": "dba77861",
   "metadata": {},
   "outputs": [],
   "source": [
    "cursor.execute(\"INSERT INTO DOGS (ID, DOG_BREED, WEIGHT, SPEED) \\\n",
    "      VALUES (1, 'Chihuahua', 5.0, 8.0)\")\n",
    "cursor.execute(\"INSERT INTO DOGS (ID, DOG_BREED, WEIGHT, SPEED) \\\n",
    "      VALUES (2, 'Corgi', 15.0, 6.0)\")\n",
    "cursor.execute(\"INSERT INTO DOGS (ID, DOG_BREED, WEIGHT, SPEED) \\\n",
    "      VALUES (3, 'Greyhound', 65.0, 12.0)\")\n",
    "\n",
    "conn.commit() # Save changes"
   ]
  },
  {
   "cell_type": "markdown",
   "id": "eebf3543",
   "metadata": {},
   "source": [
    "I can then print out my database:"
   ]
  },
  {
   "cell_type": "code",
   "execution_count": 5,
   "id": "cb54079e",
   "metadata": {},
   "outputs": [
    {
     "name": "stdout",
     "output_type": "stream",
     "text": [
      "ID =  1\n",
      "DOG BREED =  Chihuahua\n",
      "WEIGHT =  5.0\n",
      "SPEED =  8.0 \n",
      "\n",
      "ID =  2\n",
      "DOG BREED =  Corgi\n",
      "WEIGHT =  15.0\n",
      "SPEED =  6.0 \n",
      "\n",
      "ID =  3\n",
      "DOG BREED =  Greyhound\n",
      "WEIGHT =  65.0\n",
      "SPEED =  12.0 \n",
      "\n"
     ]
    }
   ],
   "source": [
    "cursor = conn.execute(\"SELECT ID, DOG_BREED, WEIGHT, SPEED from DOGS\")\n",
    "\n",
    "for row in cursor:\n",
    "    print(\"ID = \", row[0])\n",
    "    print(\"DOG BREED = \", row[1])\n",
    "    print(\"WEIGHT = \", row[2])\n",
    "    print(\"SPEED = \", row[3], \"\\n\")"
   ]
  },
  {
   "cell_type": "markdown",
   "id": "3f5c5a9c",
   "metadata": {},
   "source": [
    "Now, delete row 1, add row 4 and change the speed of the greyhound to 15.5:\n",
    "\n",
    "| ID  | Dog Breed | Weight | Speed |\n",
    "| --- | --------- | ------ | ----- |\n",
    "| 2   | Corgi     | 15     | 6     |\n",
    "| 3   | Greyhound | 65     | 15.5  | \n",
    "| 4   | Lab       | 75     | 9     |"
   ]
  },
  {
   "cell_type": "code",
   "execution_count": 6,
   "id": "b06140fc",
   "metadata": {},
   "outputs": [
    {
     "name": "stdout",
     "output_type": "stream",
     "text": [
      "ID =  2\n",
      "DOG BREED =  Corgi\n",
      "WEIGHT =  15.0\n",
      "SPEED =  6.0 \n",
      "\n",
      "ID =  3\n",
      "DOG BREED =  Greyhound\n",
      "WEIGHT =  65.0\n",
      "SPEED =  12.0 \n",
      "\n",
      "ID =  4\n",
      "DOG BREED =  Lab\n",
      "WEIGHT =  75.0\n",
      "SPEED =  9.0 \n",
      "\n"
     ]
    }
   ],
   "source": [
    "# Delete the chihuahua row\n",
    "\n",
    "conn.execute(\"DELETE from DOGS where ID = 1;\")\n",
    "conn.commit()\n",
    "\n",
    "# Add in row 4\n",
    "cursor.execute(\"INSERT INTO DOGS (ID, DOG_BREED, WEIGHT, SPEED) \\\n",
    "      VALUES (4, 'Lab', 75.0, 9.0)\")\n",
    "conn.commit()\n",
    "\n",
    "# Change the speed of the greyhound\n",
    "conn.execute(\"UPDATE DOGS set SPEED = '15.5' where ID = 15.5\")\n",
    "conn.commit()\n",
    "\n",
    "cursor = conn.execute(\"SELECT ID, DOG_BREED, WEIGHT, SPEED from DOGS\")\n",
    "# Print resulting data:\n",
    "for row in cursor:\n",
    "    print(\"ID = \", row[0])\n",
    "    print(\"DOG BREED = \", row[1])\n",
    "    print(\"WEIGHT = \", row[2])\n",
    "    print(\"SPEED = \", row[3], \"\\n\")"
   ]
  }
 ],
 "metadata": {
  "kernelspec": {
   "display_name": "Python 3 (ipykernel)",
   "language": "python",
   "name": "python3"
  },
  "language_info": {
   "codemirror_mode": {
    "name": "ipython",
    "version": 3
   },
   "file_extension": ".py",
   "mimetype": "text/x-python",
   "name": "python",
   "nbconvert_exporter": "python",
   "pygments_lexer": "ipython3",
   "version": "3.9.7"
  }
 },
 "nbformat": 4,
 "nbformat_minor": 5
}
